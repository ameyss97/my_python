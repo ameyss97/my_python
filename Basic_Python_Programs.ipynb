{
  "nbformat": 4,
  "nbformat_minor": 0,
  "metadata": {
    "colab": {
      "provenance": [],
      "authorship_tag": "ABX9TyNGAtS6Eda4Ua/ECDilUlsS",
      "include_colab_link": true
    },
    "kernelspec": {
      "name": "python3",
      "display_name": "Python 3"
    },
    "language_info": {
      "name": "python"
    }
  },
  "cells": [
    {
      "cell_type": "markdown",
      "metadata": {
        "id": "view-in-github",
        "colab_type": "text"
      },
      "source": [
        "<a href=\"https://colab.research.google.com/github/ameyss97/my_python/blob/main/Basic_Python_Programs.ipynb\" target=\"_parent\"><img src=\"https://colab.research.google.com/assets/colab-badge.svg\" alt=\"Open In Colab\"/></a>"
      ]
    },
    {
      "cell_type": "markdown",
      "source": [
        "1. Write a Python program to check if a string is a palindrome."
      ],
      "metadata": {
        "id": "U7cn6kfaUEVF"
      }
    },
    {
      "cell_type": "code",
      "source": [
        "def is_palindrome(string):\n",
        "    reversed_string = string[::-1]\n",
        "    return string == reversed_string\n",
        "\n",
        "# Test the function\n",
        "word = \"madam\"\n",
        "if is_palindrome(word):\n",
        "    print(f\"{word} is a palindrome\")\n",
        "else:\n",
        "    print(f\"{word} is not a palindrome\")\n",
        "# madam is a palindrome"
      ],
      "metadata": {
        "colab": {
          "base_uri": "https://localhost:8080/"
        },
        "id": "sy6_VUZKUHiu",
        "outputId": "938caa87-b29e-4ab8-c51c-d5c907e685aa"
      },
      "execution_count": null,
      "outputs": [
        {
          "output_type": "stream",
          "name": "stdout",
          "text": [
            "madam is a palindrome\n"
          ]
        }
      ]
    },
    {
      "cell_type": "code",
      "source": [
        "n = 1234322\n",
        "p = n\n",
        "i = 0\n",
        "l1 = []\n",
        "while n > 0:\n",
        "    i = n % 10\n",
        "    n = n // 10\n",
        "    l1.append(i)\n",
        "l2 = l1.copy()\n",
        "l1.reverse()\n",
        "if l1 == l2:\n",
        "    print(p, ' is a palindrome')\n",
        "else:print(p, ' is not a palindrome')"
      ],
      "metadata": {
        "colab": {
          "base_uri": "https://localhost:8080/"
        },
        "id": "VEfcmyDUsLFX",
        "outputId": "f9f7ac54-33c2-4743-e72b-16598ae04b4c"
      },
      "execution_count": null,
      "outputs": [
        {
          "output_type": "stream",
          "name": "stdout",
          "text": [
            "1234322  is not a palindrome\n"
          ]
        }
      ]
    },
    {
      "cell_type": "markdown",
      "source": [
        "2. Write a Python program to find the factorial of a number."
      ],
      "metadata": {
        "id": "UxZOK7RPUkya"
      }
    },
    {
      "cell_type": "code",
      "source": [
        "def factorial(n):\n",
        "    if n == 0:\n",
        "        return 1\n",
        "    else:\n",
        "        return n * factorial(n-1)\n",
        "\n",
        "# Test the function\n",
        "number = 15\n",
        "result = factorial(number)\n",
        "print(f\"The factorial of {number} is {result}\")\n",
        "# The factorial of 15 is 1307674368000"
      ],
      "metadata": {
        "colab": {
          "base_uri": "https://localhost:8080/"
        },
        "id": "NTsl8RUkUWe-",
        "outputId": "28e5a710-d564-4314-f9da-ce35790ac47b"
      },
      "execution_count": null,
      "outputs": [
        {
          "output_type": "stream",
          "name": "stdout",
          "text": [
            "The factorial of 15 is 1307674368000\n"
          ]
        }
      ]
    },
    {
      "cell_type": "code",
      "source": [
        "n = int(input(\"Enter number you want to find factorial of: \"))\n",
        "i = 1\n",
        "while n > 0:\n",
        "    i *= n\n",
        "    n -= 1\n",
        "\n",
        "print(i)"
      ],
      "metadata": {
        "colab": {
          "base_uri": "https://localhost:8080/"
        },
        "id": "-x3us0Jnq7iA",
        "outputId": "26e3c423-be74-4e21-d097-fb3d64cc184f"
      },
      "execution_count": null,
      "outputs": [
        {
          "output_type": "stream",
          "name": "stdout",
          "text": [
            "Enter number you want to find factorial of: 15\n",
            "1307674368000\n"
          ]
        }
      ]
    },
    {
      "cell_type": "code",
      "source": [
        "# Using for loop, write and run a Python program to find factorial from 0 to 10.\n",
        "n = int(input('Enter number upto use factorial you want: '))\n",
        "\n",
        "for i in range(0,n+1):\n",
        "    if i == 0:\n",
        "        print(1)\n",
        "    else:\n",
        "        k = 1\n",
        "        while i > 0:\n",
        "            k = k*i\n",
        "            i -= 1\n",
        "        print(k)"
      ],
      "metadata": {
        "colab": {
          "base_uri": "https://localhost:8080/"
        },
        "id": "UrOzxOaxrG52",
        "outputId": "74a89608-9c11-4f37-9435-0a7da141cce4"
      },
      "execution_count": null,
      "outputs": [
        {
          "output_type": "stream",
          "name": "stdout",
          "text": [
            "Enter number upto use factorial you want: 15\n",
            "1\n",
            "1\n",
            "2\n",
            "6\n",
            "24\n",
            "120\n",
            "720\n",
            "5040\n",
            "40320\n",
            "362880\n",
            "3628800\n",
            "39916800\n",
            "479001600\n",
            "6227020800\n",
            "87178291200\n",
            "1307674368000\n"
          ]
        }
      ]
    },
    {
      "cell_type": "markdown",
      "source": [
        "3. Write a Python program to find the largest element, smallest element and average in a list.\n",
        "\n"
      ],
      "metadata": {
        "id": "UUbgCkaJU4-P"
      }
    },
    {
      "cell_type": "code",
      "source": [
        "def know_the_list(numbers):\n",
        "    smallest = numbers[0]\n",
        "    largest = numbers[0]\n",
        "    total = 0\n",
        "    for num in numbers:\n",
        "        if num < smallest:\n",
        "            smallest = num\n",
        "        if num >= largest:\n",
        "            largest = num\n",
        "        total += num\n",
        "    avg = total/len(numbers)\n",
        "    return smallest, largest, avg\n",
        "\n",
        "# Test the function\n",
        "nums = [10, 5, 8, 20, 3]\n",
        "smallest_num, largest_num, avg_list = know_the_list(nums)\n",
        "print(f\"Smallest number in the list is {smallest_num}\")\n",
        "print(f\"Largest number in the list is {largest_num}\")\n",
        "print(f\"Average of all numbers in the list is {avg_list}\")\n",
        "# Smallest number in the list is 3\n",
        "# Largest number in the list is 20\n",
        "# Average of all numbers in the list is 9.2"
      ],
      "metadata": {
        "colab": {
          "base_uri": "https://localhost:8080/"
        },
        "id": "ZO-sEIMIU16I",
        "outputId": "d18fd238-b0ad-4d6c-cd85-235b6268effb"
      },
      "execution_count": null,
      "outputs": [
        {
          "output_type": "stream",
          "name": "stdout",
          "text": [
            "Smallest number in the list is 3\n",
            "Largest number in the list is 20\n",
            "Average of all numbers in the list is 9.2\n"
          ]
        }
      ]
    },
    {
      "cell_type": "markdown",
      "source": [
        "4. Write a Python program to reverse a string."
      ],
      "metadata": {
        "id": "p3sblIQwVFbJ"
      }
    },
    {
      "cell_type": "code",
      "source": [
        "def reverse_string(string):\n",
        "    return string[::-1]\n",
        "\n",
        "# Test the function\n",
        "text = \"Hello, World!\"\n",
        "reversed_text = reverse_string(text)\n",
        "print(reversed_text)\n",
        "# !dlroW ,olleH"
      ],
      "metadata": {
        "colab": {
          "base_uri": "https://localhost:8080/"
        },
        "id": "ofjSr5Y9VEIs",
        "outputId": "9558f3c6-5baa-4c88-9abd-7e1da794632f"
      },
      "execution_count": null,
      "outputs": [
        {
          "output_type": "stream",
          "name": "stdout",
          "text": [
            "!dlroW ,olleH\n"
          ]
        }
      ]
    },
    {
      "cell_type": "markdown",
      "source": [
        "5. Write a Python program to count the frequency of each element in a list."
      ],
      "metadata": {
        "id": "It3_M6cmVWIv"
      }
    },
    {
      "cell_type": "code",
      "source": [
        "def count_frequency(numbers):\n",
        "    frequency = {}\n",
        "    for num in numbers:\n",
        "        if num in frequency:\n",
        "            frequency[num] += 1\n",
        "        else:\n",
        "            frequency[num] = 1\n",
        "    return frequency\n",
        "\n",
        "# Test the function\n",
        "nums = [1, 2, 3, 2, 1, 3, 2, 4, 5, 4]\n",
        "frequency_count = count_frequency(nums)\n",
        "print(frequency_count)\n",
        "# {1: 2, 2: 3, 3: 2, 4: 2, 5: 1}\n",
        "for ele in frequency_count.keys():\n",
        "    print(f\"Frequency of {ele} is {frequency_count[ele]}\")"
      ],
      "metadata": {
        "colab": {
          "base_uri": "https://localhost:8080/"
        },
        "id": "4GQH6SECVU7f",
        "outputId": "1f06fbbf-23cc-4bbf-d754-169af196289b"
      },
      "execution_count": null,
      "outputs": [
        {
          "output_type": "stream",
          "name": "stdout",
          "text": [
            "{1: 2, 2: 3, 3: 2, 4: 2, 5: 1}\n",
            "Frequency of 1 is 2\n",
            "Frequency of 2 is 3\n",
            "Frequency of 3 is 2\n",
            "Frequency of 4 is 2\n",
            "Frequency of 5 is 1\n"
          ]
        }
      ]
    },
    {
      "cell_type": "code",
      "source": [
        "def find_count(string1):\n",
        "    count_dict = {}\n",
        "    for ele in string1:\n",
        "        if ele in count_dict.keys():\n",
        "            count_dict[ele] += 1\n",
        "        else:\n",
        "            count_dict[ele] = 1\n",
        "\n",
        "    return count_dict\n",
        "# Test the function\n",
        "string_t = 'My name is Amey'\n",
        " #counter : small capital ?\n",
        "result = find_count(string_t)\n",
        "print(result)"
      ],
      "metadata": {
        "colab": {
          "base_uri": "https://localhost:8080/"
        },
        "id": "byvy3eKkpHJY",
        "outputId": "725ad2b9-13cf-4986-86e9-3be77e83a186"
      },
      "execution_count": null,
      "outputs": [
        {
          "output_type": "stream",
          "name": "stdout",
          "text": [
            "{'M': 1, 'y': 2, ' ': 3, 'n': 1, 'a': 1, 'm': 2, 'e': 2, 'i': 1, 's': 1, 'A': 1}\n"
          ]
        }
      ]
    },
    {
      "cell_type": "markdown",
      "source": [
        "6. Write a Python program to check if a number is prime."
      ],
      "metadata": {
        "id": "JGFSG2cSVcza"
      }
    },
    {
      "cell_type": "code",
      "execution_count": null,
      "metadata": {
        "colab": {
          "base_uri": "https://localhost:8080/"
        },
        "id": "Wp2bwmZ6Tz93",
        "outputId": "d623626c-ec6f-4b16-9224-59182616299c"
      },
      "outputs": [
        {
          "output_type": "stream",
          "name": "stdout",
          "text": [
            "17 is a prime number\n"
          ]
        }
      ],
      "source": [
        "def is_prime(number):\n",
        "    if number < 2:\n",
        "        return False\n",
        "    for i in range(2, int(number**0.5) + 1):\n",
        "        if number % i == 0:\n",
        "            return False\n",
        "    return True\n",
        "\n",
        "# Test the function\n",
        "num = 17\n",
        "if is_prime(num):\n",
        "    print(f\"{num} is a prime number\")\n",
        "else:\n",
        "    print(f\"{num} is not a prime number\")\n",
        "# 17 is a prime number"
      ]
    },
    {
      "cell_type": "code",
      "source": [
        "n = int(input(\"Enter the Number: \"))\n",
        "flag = False\n",
        "if n == 1:\n",
        "    print(n,' is neither prime nor composite')\n",
        "else:\n",
        "    for i in range(2,int(n**(1/2))):\n",
        "        if n % i == 0:\n",
        "            flag = True\n",
        "            break\n",
        "\n",
        "    if flag:\n",
        "        print(n, 'is NOT prime number')\n",
        "    else:\n",
        "        print(n, ' is a prime number')"
      ],
      "metadata": {
        "colab": {
          "base_uri": "https://localhost:8080/"
        },
        "id": "9deHhTgSqRZd",
        "outputId": "11ea3ee2-dfd5-4db2-bc87-317762d73da2"
      },
      "execution_count": null,
      "outputs": [
        {
          "output_type": "stream",
          "name": "stdout",
          "text": [
            "Enter the Number: 29\n",
            "29  is a prime number\n"
          ]
        }
      ]
    },
    {
      "cell_type": "code",
      "source": [
        "n = int(input(\"Enter range for prime number: \"))\n",
        "\n",
        "l = []\n",
        "if n == 1:\n",
        "    print(2)\n",
        "else:\n",
        "    for i in range(2,n):\n",
        "        flag = False\n",
        "        for j in range(2,i):\n",
        "            if i % j == 0:\n",
        "                flag = True\n",
        "        if flag == False:\n",
        "            l.append(i)\n",
        "\n",
        "print(l)"
      ],
      "metadata": {
        "colab": {
          "base_uri": "https://localhost:8080/"
        },
        "id": "Br77lKI9qlGc",
        "outputId": "c9ea9b27-35f3-40b8-ddd5-34578f5a378c"
      },
      "execution_count": null,
      "outputs": [
        {
          "output_type": "stream",
          "name": "stdout",
          "text": [
            "Enter range for prime number: 43\n",
            "[2, 3, 5, 7, 11, 13, 17, 19, 23, 29, 31, 37, 41]\n"
          ]
        }
      ]
    },
    {
      "cell_type": "markdown",
      "source": [
        "7. Write a Python program to find the common elements between two lists."
      ],
      "metadata": {
        "id": "R2hfTNY-WApX"
      }
    },
    {
      "cell_type": "code",
      "source": [
        "def common_slice(list1:list, list2:list) -> list:\n",
        "    l1 = list1.copy()\n",
        "    l2 = list2.copy()\n",
        "    result = []\n",
        "    for ele in l1:\n",
        "        if ele in l2:\n",
        "            result.append(ele)\n",
        "            l2.remove(ele)\n",
        "    return result\n",
        "\n",
        "# Test the function\n",
        "test_list1 = [1,1,2,3,3,4]\n",
        "test_list2 = [1,3,3,4,4]\n",
        "result = common_slice(test_list1, test_list2)\n",
        "print(f\"{result} is common between {test_list1} and {test_list2}\")\n",
        "# [1, 3, 3, 4] is common between [1, 1, 2, 3, 3, 4] and [1, 3, 3, 4, 4]"
      ],
      "metadata": {
        "colab": {
          "base_uri": "https://localhost:8080/"
        },
        "id": "Nl9fDALEV-lC",
        "outputId": "1803523e-55ba-4314-a371-dc92bd31f28a"
      },
      "execution_count": null,
      "outputs": [
        {
          "output_type": "stream",
          "name": "stdout",
          "text": [
            "[1, 3, 3, 4] is common between [1, 1, 2, 3, 3, 4] and [1, 3, 3, 4, 4]\n"
          ]
        }
      ]
    },
    {
      "cell_type": "markdown",
      "source": [
        "8. Write a Python program to sort a list of elements using the bubble sort algorithm."
      ],
      "metadata": {
        "id": "ooXcHFwqWehb"
      }
    },
    {
      "cell_type": "code",
      "source": [
        "def bubble_sort(elements):\n",
        "    n = len(elements)\n",
        "    for i in range(n - 1):\n",
        "        for j in range(n - i - 1):\n",
        "            if elements[j] > elements[j + 1]:\n",
        "                elements[j], elements[j + 1] = elements[j + 1], elements[j]\n",
        "                print(elements)\n",
        "\n",
        "# Test the function\n",
        "nums = [5, 2, 8, 1, 9, 1]\n",
        "bubble_sort(nums)\n",
        "print(nums)\n",
        "# [1, 1, 2, 5, 8, 9]"
      ],
      "metadata": {
        "colab": {
          "base_uri": "https://localhost:8080/"
        },
        "id": "L4Saiu0-Wbyp",
        "outputId": "560b970f-0e96-4d34-cc58-47114af19db2"
      },
      "execution_count": null,
      "outputs": [
        {
          "output_type": "stream",
          "name": "stdout",
          "text": [
            "[2, 5, 8, 1, 9, 1]\n",
            "[2, 5, 1, 8, 9, 1]\n",
            "[2, 5, 1, 8, 1, 9]\n",
            "[2, 1, 5, 8, 1, 9]\n",
            "[2, 1, 5, 1, 8, 9]\n",
            "[1, 2, 5, 1, 8, 9]\n",
            "[1, 2, 1, 5, 8, 9]\n",
            "[1, 1, 2, 5, 8, 9]\n",
            "[1, 1, 2, 5, 8, 9]\n"
          ]
        }
      ]
    },
    {
      "cell_type": "code",
      "source": [
        "def bubble_sort(num_list:list) -> list:\n",
        "    num_list2 = num_list.copy()\n",
        "    for i in range(len(num_list2)-1):\n",
        "        for j in range(len(num_list2)-i-1):\n",
        "            if num_list2[j] > num_list2[j+1]:\n",
        "                num_list2[j], num_list2[j+1] = num_list2[j+1], num_list2[j]\n",
        "    return num_list2\n",
        "\n",
        "# Test the function\n",
        "nums = [4,3,2,1,0]\n",
        "result = bubble_sort(nums)\n",
        "print(f\"{result} is bubble sorted list of {nums}\")"
      ],
      "metadata": {
        "colab": {
          "base_uri": "https://localhost:8080/"
        },
        "id": "gEeMiRYAntQp",
        "outputId": "e7b2bf59-9b2f-43fc-e4ac-ef5b2a7812b5"
      },
      "execution_count": null,
      "outputs": [
        {
          "output_type": "stream",
          "name": "stdout",
          "text": [
            "[0, 1, 2, 3, 4] is bubble sorted list of [4, 3, 2, 1, 0]\n"
          ]
        }
      ]
    },
    {
      "cell_type": "markdown",
      "source": [
        "9. Write a Python program to find the second largest number in a list."
      ],
      "metadata": {
        "id": "-AeE7vhWXjaE"
      }
    },
    {
      "cell_type": "code",
      "source": [
        "def find_second_largest(numbers):\n",
        "    largest = float('-inf')\n",
        "    second_largest = float('-inf')\n",
        "    for num in numbers:\n",
        "        if num > largest:\n",
        "            second_largest = largest\n",
        "            largest = num\n",
        "        elif num > second_largest and num != largest:\n",
        "            second_largest = num\n",
        "    return second_largest\n",
        "\n",
        "# Test the function\n",
        "nums = [10, 5, 8, 20, 3, 20]\n",
        "second_largest_num = find_second_largest(nums)\n",
        "print(f\"The second largest number is {second_largest_num}\")\n",
        "# The second largest number is 10"
      ],
      "metadata": {
        "colab": {
          "base_uri": "https://localhost:8080/"
        },
        "id": "Fny5LWOrW3cx",
        "outputId": "8c8533a5-c63f-448d-d2d5-ab05f708cc84"
      },
      "execution_count": null,
      "outputs": [
        {
          "output_type": "stream",
          "name": "stdout",
          "text": [
            "The second largest number is 10\n"
          ]
        }
      ]
    },
    {
      "cell_type": "markdown",
      "source": [
        "10. Write a Python program to remove duplicates from a list."
      ],
      "metadata": {
        "id": "y3g58skeYMzq"
      }
    },
    {
      "cell_type": "code",
      "source": [
        "def remove_duplicates(numbers):\n",
        "    unique_numbers = []\n",
        "    for num in numbers:\n",
        "        if num not in unique_numbers:\n",
        "            unique_numbers.append(num)\n",
        "    return unique_numbers\n",
        "\n",
        "# Test the function\n",
        "nums = [1, 2, 3, 2, 1, 3, 2, 4, 5, 4]\n",
        "unique_nums = remove_duplicates(nums)\n",
        "print(unique_nums) # [1, 2, 3, 4, 5]"
      ],
      "metadata": {
        "colab": {
          "base_uri": "https://localhost:8080/"
        },
        "id": "Lfs_8JaPX8cs",
        "outputId": "cfe7d5f0-3ae9-444c-8f93-1c7b7c92bf35"
      },
      "execution_count": null,
      "outputs": [
        {
          "output_type": "stream",
          "name": "stdout",
          "text": [
            "[1, 2, 3, 4, 5]\n"
          ]
        }
      ]
    },
    {
      "cell_type": "code",
      "source": [
        "def remove_dupes(list1:list) -> list:\n",
        "    set1 = set(list1.copy())\n",
        "    unique_nums = list(set1)\n",
        "    return unique_nums\n",
        "\n",
        "# Test the function\n",
        "nums = [1, 2, 3, 2, 1, 3, 2, 4, 5, 4]\n",
        "result = remove_dupes(nums)\n",
        "print(f\"{result} is deduplicated version of {nums}\")"
      ],
      "metadata": {
        "colab": {
          "base_uri": "https://localhost:8080/"
        },
        "id": "LPZQWEDAoEMG",
        "outputId": "49990431-cb3c-4ada-8b8c-36bf95f4676a"
      },
      "execution_count": null,
      "outputs": [
        {
          "output_type": "stream",
          "name": "stdout",
          "text": [
            "[1, 2, 3, 4, 5] is deduplicated version of [1, 2, 3, 2, 1, 3, 2, 4, 5, 4]\n"
          ]
        }
      ]
    },
    {
      "cell_type": "markdown",
      "source": [
        "11. Write a Python program to replace string space with a given character"
      ],
      "metadata": {
        "id": "di1FinFraX8z"
      }
    },
    {
      "cell_type": "code",
      "source": [
        "def str_replace(text,ch):\n",
        "    result = ''\n",
        "    for ele in text:\n",
        "      if ele == ' ':\n",
        "          ele = ch\n",
        "      result += ele\n",
        "    return result\n",
        "\n",
        "# Test the function\n",
        "text = \"D t C mpBl ckFrid yS le\"\n",
        "ch = \"a\"\n",
        "replaced_str = str_replace(text,ch)\n",
        "print(replaced_str) # 'DataCampBlackFridaySale'"
      ],
      "metadata": {
        "colab": {
          "base_uri": "https://localhost:8080/"
        },
        "id": "UcVuxd_pYYJ-",
        "outputId": "f3202403-c7ba-45db-ca8d-362f26733259"
      },
      "execution_count": null,
      "outputs": [
        {
          "output_type": "stream",
          "name": "stdout",
          "text": [
            "DataCampBlackFridaySale\n"
          ]
        }
      ]
    },
    {
      "cell_type": "markdown",
      "source": [
        "12. Write a Python program to check if positive integer is valid square or not."
      ],
      "metadata": {
        "id": "56a4fcgjbygp"
      }
    },
    {
      "cell_type": "code",
      "source": [
        "def valid_square(num):\n",
        "    square = int(num**0.5)\n",
        "    check = square**2==num\n",
        "    return check\n",
        "\n",
        "# Test the function\n",
        "num = 10\n",
        "validity = valid_square(num)\n",
        "if validity:\n",
        "  print(f\"{num} is a valid square\")\n",
        "else:\n",
        "  print(f\"{num} is not a valid square\")\n",
        "# 10 is not a valid square\n",
        "\n",
        "num = 36\n",
        "validity = valid_square(num)\n",
        "if validity:\n",
        "  print(f\"{num} is a valid square\")\n",
        "else:\n",
        "  print(f\"{num} is not a valid square\")\n",
        "# 36 is a valid square"
      ],
      "metadata": {
        "colab": {
          "base_uri": "https://localhost:8080/"
        },
        "id": "ZRKZZtFLbJZd",
        "outputId": "8280fa2d-3f06-4f50-b226-a23e814853c0"
      },
      "execution_count": null,
      "outputs": [
        {
          "output_type": "stream",
          "name": "stdout",
          "text": [
            "10 is not a valid square\n",
            "36 is a valid square\n"
          ]
        }
      ]
    },
    {
      "cell_type": "markdown",
      "source": [
        "13. Print Triangle star pattern"
      ],
      "metadata": {
        "id": "16xFJ6BddqmO"
      }
    },
    {
      "cell_type": "code",
      "source": [
        "def print_star_pattern(n):\n",
        "    for i in range(1, n + 1):\n",
        "        print('* ' * i)\n",
        "\n",
        "# Test the function\n",
        "n = 4\n",
        "print_star_pattern(n)"
      ],
      "metadata": {
        "colab": {
          "base_uri": "https://localhost:8080/"
        },
        "id": "EYJBTdkycnsa",
        "outputId": "ae788515-49f1-4fb5-ab83-c3c76a926a54"
      },
      "execution_count": null,
      "outputs": [
        {
          "output_type": "stream",
          "name": "stdout",
          "text": [
            "* \n",
            "* * \n",
            "* * * \n",
            "* * * * \n"
          ]
        }
      ]
    },
    {
      "cell_type": "markdown",
      "source": [
        "14. Write a Python program to identify if the character is a vowel or consonant."
      ],
      "metadata": {
        "id": "GIzWqrC0phia"
      }
    },
    {
      "cell_type": "code",
      "source": [
        "def is_vowel(char) :\n",
        "    if char.isalpha():\n",
        "        if char in 'AaEeIiOoUu':\n",
        "            print(f\"{char} is a Vowel\")\n",
        "        else:\n",
        "            print(f\"{char} is a Consonent\")\n",
        "    else:\n",
        "        print(f\"{char} is not an alphabet\")\n",
        "\n",
        "\n",
        "checklist = ['1', '@', 'A', 's']\n",
        "for char in checklist:\n",
        "    is_vowel(char)"
      ],
      "metadata": {
        "colab": {
          "base_uri": "https://localhost:8080/"
        },
        "id": "na0Yl3Ibox2x",
        "outputId": "70f00a4d-8a42-47d8-c737-15dae46f7fb6"
      },
      "execution_count": null,
      "outputs": [
        {
          "output_type": "stream",
          "name": "stdout",
          "text": [
            "1 is not an alphabet\n",
            "@ is not an alphabet\n",
            "A is a Vowel\n",
            "s is a Consonent\n"
          ]
        }
      ]
    },
    {
      "cell_type": "markdown",
      "source": [
        "15. Fibonacci Series"
      ],
      "metadata": {
        "id": "7kHRuF1mrRdX"
      }
    },
    {
      "cell_type": "code",
      "source": [
        "n = int(input(\"Enter the number of \"))\n",
        "a = 0\n",
        "b = 1\n",
        "i = 1\n",
        "if n == 1:\n",
        "    print(a)\n",
        "elif n == 2:\n",
        "    print(a,b)\n",
        "else:\n",
        "    print(a)\n",
        "    print(b)\n",
        "    while i < n:\n",
        "        c = a+b\n",
        "        a = b\n",
        "        b = c\n",
        "        print(c)\n",
        "        i+=1"
      ],
      "metadata": {
        "colab": {
          "base_uri": "https://localhost:8080/"
        },
        "id": "QfKdxmcNrQ0j",
        "outputId": "2a1883e9-492d-4581-8f51-39ac309fb75a"
      },
      "execution_count": null,
      "outputs": [
        {
          "output_type": "stream",
          "name": "stdout",
          "text": [
            "Enter the number of 12\n",
            "0\n",
            "1\n",
            "1\n",
            "2\n",
            "3\n",
            "5\n",
            "8\n",
            "13\n",
            "21\n",
            "34\n",
            "55\n",
            "89\n",
            "144\n"
          ]
        }
      ]
    },
    {
      "cell_type": "code",
      "source": [
        "a = 0\n",
        "b = 1\n",
        "i = 2\n",
        "c = 0\n",
        "n = int(input(\"Enter Num: \"))\n",
        "if n == 1:\n",
        "    print(a)\n",
        "elif n == 2:\n",
        "    print(a)\n",
        "    print(b)\n",
        "else:\n",
        "    while i < n:\n",
        "        c = a+b\n",
        "        a = b\n",
        "        b = c\n",
        "        i += 1\n",
        "    print(c)"
      ],
      "metadata": {
        "colab": {
          "base_uri": "https://localhost:8080/"
        },
        "id": "z56y0DfKpr_x",
        "outputId": "ba02f9e4-2c42-4a5b-a4ef-57e05f291b60"
      },
      "execution_count": null,
      "outputs": [
        {
          "output_type": "stream",
          "name": "stdout",
          "text": [
            "Enter Num: 6\n",
            "5\n"
          ]
        }
      ]
    },
    {
      "cell_type": "markdown",
      "source": [
        "16. Number Swapping"
      ],
      "metadata": {
        "id": "1k2f0KANsU8p"
      }
    },
    {
      "cell_type": "code",
      "source": [
        "a = 1\n",
        "b = 2\n",
        "a,b = b,a\n",
        "print(a)\n",
        "print(b)"
      ],
      "metadata": {
        "colab": {
          "base_uri": "https://localhost:8080/"
        },
        "id": "J6rC7MiGrdRn",
        "outputId": "36fc7972-4363-4fab-a6a9-b9e496709fa5"
      },
      "execution_count": null,
      "outputs": [
        {
          "output_type": "stream",
          "name": "stdout",
          "text": [
            "2\n",
            "1\n"
          ]
        }
      ]
    },
    {
      "cell_type": "code",
      "source": [
        "c = 50\n",
        "d = 100\n",
        "t = 0\n",
        "t = c\n",
        "c = d\n",
        "d = t\n",
        "print(c)\n",
        "print(d)"
      ],
      "metadata": {
        "colab": {
          "base_uri": "https://localhost:8080/"
        },
        "id": "ALei51zMsabD",
        "outputId": "1fe46047-5492-40c3-d5ad-c7171a3e5b3e"
      },
      "execution_count": null,
      "outputs": [
        {
          "output_type": "stream",
          "name": "stdout",
          "text": [
            "100\n",
            "50\n"
          ]
        }
      ]
    },
    {
      "cell_type": "markdown",
      "source": [
        "17. Write a program to Interchange First and Last Element of a List"
      ],
      "metadata": {
        "id": "tZ7tbAwXsju5"
      }
    },
    {
      "cell_type": "code",
      "source": [
        "l1 = [1,2,3,4,5]\n",
        "l1[0],l1[-1] = l1[-1],l1[0]\n",
        "print(l1)"
      ],
      "metadata": {
        "colab": {
          "base_uri": "https://localhost:8080/"
        },
        "id": "fTZ46fJBsdBk",
        "outputId": "56a99d68-40f4-4175-b257-6544d627bb7b"
      },
      "execution_count": null,
      "outputs": [
        {
          "output_type": "stream",
          "name": "stdout",
          "text": [
            "[5, 2, 3, 4, 1]\n"
          ]
        }
      ]
    },
    {
      "cell_type": "markdown",
      "source": [
        "18. Replace single element ‘b’ in given list ['a', 'b', 'c', 'd', 'e'] with [1, 2, 3]"
      ],
      "metadata": {
        "id": "p47T_e50sqsW"
      }
    },
    {
      "cell_type": "code",
      "source": [
        "l = ['a', 'b', 'c', 'd', 'e']\n",
        "n = [1, 2, 3]\n",
        "l[1] = n\n",
        "# l.pop(1) and l.insert(1,n)\n",
        "print(l)"
      ],
      "metadata": {
        "colab": {
          "base_uri": "https://localhost:8080/"
        },
        "id": "Uoi49GAMspwZ",
        "outputId": "8bc5f189-7166-4b16-9313-643376e61dea"
      },
      "execution_count": null,
      "outputs": [
        {
          "output_type": "stream",
          "name": "stdout",
          "text": [
            "['a', [1, 2, 3], 'c', 'd', 'e']\n"
          ]
        }
      ]
    },
    {
      "cell_type": "markdown",
      "source": [
        "19. write a program to find index of element ‘e’ in given vowels list ['a', 'e', 'i', 'o', 'i', 'u']"
      ],
      "metadata": {
        "id": "y0LFNBgQtAOf"
      }
    },
    {
      "cell_type": "code",
      "source": [
        "l1 = ['a', 'e', 'i', 'o', 'i', 'u']\n",
        "print(l1.index('e'))"
      ],
      "metadata": {
        "colab": {
          "base_uri": "https://localhost:8080/"
        },
        "id": "m2IUcXTcs8gv",
        "outputId": "07569615-3a92-497e-e73c-5c083ed9db75"
      },
      "execution_count": null,
      "outputs": [
        {
          "output_type": "stream",
          "name": "stdout",
          "text": [
            "1\n"
          ]
        }
      ]
    },
    {
      "cell_type": "markdown",
      "source": [
        "20. Write a python program to print sum of tuple elelments."
      ],
      "metadata": {
        "id": "gyreui3DtFxi"
      }
    },
    {
      "cell_type": "code",
      "source": [
        "from functools import reduce\n",
        "tup = (1,2,3,4,5,6,7)\n",
        "addn = lambda x,y:x+y\n",
        "\n",
        "s = reduce(addn,tup)\n",
        "print(s)"
      ],
      "metadata": {
        "colab": {
          "base_uri": "https://localhost:8080/"
        },
        "id": "v_M42boTtErk",
        "outputId": "742c1a67-6202-432b-8f40-9f2f9618eb83"
      },
      "execution_count": null,
      "outputs": [
        {
          "output_type": "stream",
          "name": "stdout",
          "text": [
            "28\n"
          ]
        }
      ]
    },
    {
      "cell_type": "markdown",
      "source": [
        "21. Accept the full name from user(Name Middlename Surname) in lowercase and Print it in title case."
      ],
      "metadata": {
        "id": "sxkLvEKatbVL"
      }
    },
    {
      "cell_type": "code",
      "source": [
        "f_name = input('Enter Full Name in lowercase: ')\n",
        "l1 = f_name.split(' ')\n",
        "l2 = []\n",
        "for i in l1:\n",
        "    l2.append(i.capitalize())\n",
        "str1 = ''\n",
        "for j in l2:\n",
        "    str1 += j + ' '\n",
        "print(str1.strip())"
      ],
      "metadata": {
        "colab": {
          "base_uri": "https://localhost:8080/"
        },
        "id": "qzua_hSztV4L",
        "outputId": "09c181b6-40de-4f43-be35-cbb896f198d9"
      },
      "execution_count": null,
      "outputs": [
        {
          "output_type": "stream",
          "name": "stdout",
          "text": [
            "Enter Full Name in lowercase: amey sadegaonkar\n",
            "Amey Sadegaonkar\n"
          ]
        }
      ]
    },
    {
      "cell_type": "markdown",
      "source": [
        "22. Write a function find_longest_word() that takes a list of words and returns the length of the longest word and that word itself."
      ],
      "metadata": {
        "id": "wlucElxWtm1E"
      }
    },
    {
      "cell_type": "code",
      "source": [
        "l1 = ['chennai','mumbai','asdfghjklzxcvb','nagpur','aaaaaaaaaaaaaa','delhi',\n",
        "      'indore','ahemdabad','vishakhapatnam']\n",
        "\n",
        "def find_longest_word(l2):\n",
        "    max_length = 0\n",
        "    for word in l2:\n",
        "        if max_length < len(word):\n",
        "            max_length = len(word)\n",
        "    for w in l2:\n",
        "        if len(w) == max_length:\n",
        "            print(w,max_length)\n",
        "\n",
        "find_longest_word(l1)"
      ],
      "metadata": {
        "colab": {
          "base_uri": "https://localhost:8080/"
        },
        "id": "vfqyREAWthA1",
        "outputId": "d8d94325-2d3d-42df-cf3d-246ec58f64bd"
      },
      "execution_count": null,
      "outputs": [
        {
          "output_type": "stream",
          "name": "stdout",
          "text": [
            "asdfghjklzxcvb 14\n",
            "aaaaaaaaaaaaaa 14\n",
            "vishakhapatnam 14\n"
          ]
        }
      ]
    },
    {
      "cell_type": "markdown",
      "source": [
        "23. Print the given number in words.(eg.1234 => one two three four). numbers = [\" \", \"one\", \"two\", \"three\", \"four\"]"
      ],
      "metadata": {
        "id": "X_-98B6et4m1"
      }
    },
    {
      "cell_type": "code",
      "source": [
        "num_dict = {0:'zero',1:'one',2:'two',3:'three',4:'four',5:'five',\n",
        "            6:'six',7:'seven',8:'eight',9:'nine'}\n",
        "n = 10234567897654321\n",
        "x = 0\n",
        "l1 = []\n",
        "while n > 0:\n",
        "    x = n % 10\n",
        "    n = n//10\n",
        "    l1.append(num_dict[x])\n",
        "l1.reverse()\n",
        "s1 = ' '.join(l1)\n",
        "print(s1.strip())"
      ],
      "metadata": {
        "colab": {
          "base_uri": "https://localhost:8080/"
        },
        "id": "4AKOFR10tyyZ",
        "outputId": "b51d38cf-2c7a-4399-905b-90885e10f01f"
      },
      "execution_count": null,
      "outputs": [
        {
          "output_type": "stream",
          "name": "stdout",
          "text": [
            "one zero two three four five six seven eight nine seven six five four three two one\n"
          ]
        }
      ]
    },
    {
      "cell_type": "markdown",
      "source": [
        "24. Write a function filter_long_words() that takes a list of words and an integer len and returns the list of words that are longer than len"
      ],
      "metadata": {
        "id": "eICKGU2xuHnt"
      }
    },
    {
      "cell_type": "code",
      "source": [
        "l1 = ['chennai','mumbai','asdfghjklzxcvb','nagpur','aaaaaaaaaaaaaa','delhi',\n",
        "      'indore','ahemdabad','vishakhapatnam']\n",
        "\n",
        "def filter_long_words(l2):\n",
        "    l3 = []\n",
        "    n = int(input(\"Enter Length: \"))\n",
        "    for word in l2:\n",
        "        if len(word) > n:\n",
        "            l3.append(word)\n",
        "    print(l3)\n",
        "\n",
        "filter_long_words(l1)"
      ],
      "metadata": {
        "colab": {
          "base_uri": "https://localhost:8080/"
        },
        "id": "2TkBUJEAuFOr",
        "outputId": "96b8a662-3120-42c9-c7ab-24f143157a4d"
      },
      "execution_count": null,
      "outputs": [
        {
          "output_type": "stream",
          "name": "stdout",
          "text": [
            "Enter Length: 10\n",
            "['asdfghjklzxcvb', 'aaaaaaaaaaaaaa', 'vishakhapatnam']\n"
          ]
        }
      ]
    },
    {
      "cell_type": "markdown",
      "source": [
        "25. Write a version of a palindrome recognizer that also accepts phrase palindromes such as\n",
        "- \"Go hanga salami I'm a lasagna hog.\"\n",
        "- \"Was it a rat I saw?\"\n",
        "- \"Step on no pets\"\n",
        "- \"Sit on a potato pan, Otis\"\n",
        "- \"Lisa Bonet ate no basil\"\n",
        "- \"Satan, oscillate my metallic sonatas\"\n",
        "- \"I  roamed under it as a tired nude Maori\"\n",
        "- \"Rise to vote sir\"\n",
        "- \"Dammit, I'm mad!\"\n",
        "\n",
        "Note that punctuation, capitalization, and spacing are usually ignored."
      ],
      "metadata": {
        "id": "zUGY5ChyujhY"
      }
    },
    {
      "cell_type": "code",
      "source": [
        "str1 = input(\"Enter the String you want to check palindrome for: \")\n",
        "str1 = str1.lower()\n",
        "l1 = []\n",
        "for s in str1:\n",
        "    if s.isalpha():\n",
        "        l1.append(s)\n",
        "\n",
        "l2 = l1.copy()\n",
        "l1.reverse()\n",
        "if l1 == l2:\n",
        "    print('Given String is a palindrome')\n",
        "    print(l1)\n",
        "    print(l2)\n",
        "else:\n",
        "    print(\"Give String is NOT a palindrome\")"
      ],
      "metadata": {
        "colab": {
          "base_uri": "https://localhost:8080/"
        },
        "id": "iGC-4u4Fucf3",
        "outputId": "1c1ea930-59bd-4807-f515-3fa09a5c6ffa"
      },
      "execution_count": null,
      "outputs": [
        {
          "output_type": "stream",
          "name": "stdout",
          "text": [
            "Enter the String you want to check palindrome for: \"Dammit, I'm mad!\"\n",
            "Given String is a palindrome\n",
            "['d', 'a', 'm', 'm', 'i', 't', 'i', 'm', 'm', 'a', 'd']\n",
            "['d', 'a', 'm', 'm', 'i', 't', 'i', 'm', 'm', 'a', 'd']\n"
          ]
        }
      ]
    },
    {
      "cell_type": "markdown",
      "source": [
        "26. Given a dictionary of students and their favourite colours:\n",
        "\n",
        "people={'Arham':'Blue','Lisa':'Yellow',''Vinod:'Purple','Jenny':'Pink'}\n",
        "\n",
        "1. Find out how many students are in the list\n",
        "2. Change Lisa’s favourite colour\n",
        "3. Remove 'Jenny' and her favourite colour\n",
        "4. Sort and print students and their favourite colours alphabetically by name"
      ],
      "metadata": {
        "id": "5H9Tye9rvikt"
      }
    },
    {
      "cell_type": "code",
      "source": [
        "people={'Lisa':'Yellow','Vinod':'Purple','Jenny':'Pink','Arham':'Blue'}\n",
        "\n",
        "#A.\n",
        "print(len(people))\n",
        "\n",
        "#B.\n",
        "people['Lisa'] = 'Red'\n",
        "print(people)\n",
        "\n",
        "#C.\n",
        "del people['Jenny']\n",
        "print(people)\n",
        "\n",
        "#D.\n",
        "l1 = []\n",
        "for i in people:\n",
        "    l1.append(i)\n",
        "l1.sort()\n",
        "print(l1)\n",
        "for j in l1:\n",
        "    print(j,':',people[j])"
      ],
      "metadata": {
        "colab": {
          "base_uri": "https://localhost:8080/"
        },
        "id": "K9rop6GNvaZ8",
        "outputId": "35287c81-134e-44f3-9c48-cb461d6dd96d"
      },
      "execution_count": null,
      "outputs": [
        {
          "output_type": "stream",
          "name": "stdout",
          "text": [
            "4\n",
            "{'Lisa': 'Red', 'Vinod': 'Purple', 'Jenny': 'Pink', 'Arham': 'Blue'}\n",
            "{'Lisa': 'Red', 'Vinod': 'Purple', 'Arham': 'Blue'}\n",
            "['Arham', 'Lisa', 'Vinod']\n",
            "Arham : Blue\n",
            "Lisa : Red\n",
            "Vinod : Purple\n"
          ]
        }
      ]
    },
    {
      "cell_type": "markdown",
      "source": [
        "27. A pangram is a sentence that contains all the letters of the English alphabet atleast once,\n",
        "for example: The quick brown fox jumps over the lazy dog.\n",
        "\n",
        "Your task here is to write a function to check a sentence to see if it is a pangram or not."
      ],
      "metadata": {
        "id": "HongYHrLwTub"
      }
    },
    {
      "cell_type": "code",
      "source": [
        "l1 = ['q', 'w', 'e', 'r', 't', 'y', 'u', 'i', 'o', 'p', 'a', 's', 'd',\n",
        "      'f', 'g', 'h', 'j', 'k', 'l', 'z', 'x', 'c', 'v', 'b', 'n', 'm']\n",
        "n = input('Enter string you want to check for anagram: ')\n",
        "l2 = []\n",
        "for i in n:\n",
        "    if i.isalpha():\n",
        "        l2.append(i.lower())\n",
        "l3 = list(set(l2))\n",
        "l1.sort()\n",
        "l3.sort()\n",
        "\n",
        "if l1 == l3:\n",
        "    print('Given sentence is a Panagram')\n",
        "else:\n",
        "    print('Given sentence is NOT a Panagram')"
      ],
      "metadata": {
        "colab": {
          "base_uri": "https://localhost:8080/"
        },
        "id": "HhYqpi4lwaoi",
        "outputId": "eb680c14-0338-4579-d435-62e0f52c0c05"
      },
      "execution_count": null,
      "outputs": [
        {
          "output_type": "stream",
          "name": "stdout",
          "text": [
            "Enter string you want to check for anagram: The quick brown fox jumps over the lazy dog\n",
            "Given sentence is a Panagram\n"
          ]
        }
      ]
    },
    {
      "cell_type": "markdown",
      "source": [
        "28. Define a procedure histogram() that takes a list of integers and prints a\n",
        "histogram to the screen.\n",
        "For example, histogram([4, 9, 7]) should print the following:\n",
        "\n",
        "`****`\n",
        "\n",
        "`*********`\n",
        "\n",
        "`*******`\n",
        "\n",
        "\n"
      ],
      "metadata": {
        "id": "G0bqWtaTw75Z"
      }
    },
    {
      "cell_type": "code",
      "source": [
        "def histogram(l1):\n",
        "    for i in l1:\n",
        "        print('*' * i)\n",
        "\n",
        "l1 = [4,9,7]\n",
        "histogram(l1)"
      ],
      "metadata": {
        "colab": {
          "base_uri": "https://localhost:8080/"
        },
        "id": "4uCy5Uv_v7-Q",
        "outputId": "cf1b93b6-a909-426b-f69f-a6849c71ae4c"
      },
      "execution_count": null,
      "outputs": [
        {
          "output_type": "stream",
          "name": "stdout",
          "text": [
            "****\n",
            "*********\n",
            "*******\n"
          ]
        }
      ]
    },
    {
      "cell_type": "markdown",
      "source": [
        "29. Write a function translate() that will translate a text into \"rövarspråket\"\n",
        "(Swedish for \"robber's language\"). That is, double every consonant and place an\n",
        "occurrence of \"o\" in between. For example, translate(\"this is fun\") should return\n",
        "the string \"tothohisos isos fofunon\"."
      ],
      "metadata": {
        "id": "8jqscr0Oxntu"
      }
    },
    {
      "cell_type": "code",
      "source": [
        "str1 = 'this is fun'\n",
        "str2 = ''\n",
        "vowels = ['a','e','i','o','u']\n",
        "for i in str1:\n",
        "    if i.isspace():\n",
        "        str2 += i\n",
        "    elif i not in vowels:\n",
        "        str2 += i+'o'+i\n",
        "    else:\n",
        "        str2 += i\n",
        "print(str2)"
      ],
      "metadata": {
        "colab": {
          "base_uri": "https://localhost:8080/"
        },
        "id": "7F1a335Jwar2",
        "outputId": "176e4a8e-d8b0-498a-f70d-48a0869db7ca"
      },
      "execution_count": null,
      "outputs": [
        {
          "output_type": "stream",
          "name": "stdout",
          "text": [
            "tothohisos isos fofunon\n"
          ]
        }
      ]
    },
    {
      "cell_type": "markdown",
      "source": [
        "30. Write a program to sum all the values of a dictionary.\n",
        "\n",
        "Hint: dict1 = {‘key 1’: 200, ‘key 2’: 300}"
      ],
      "metadata": {
        "id": "CNPoljjTx9TO"
      }
    },
    {
      "cell_type": "code",
      "source": [
        "from functools import reduce\n",
        "dict1 = {'key 1': 200, 'key 2': 300}\n",
        "addn = lambda x,y:x+y\n",
        "\n",
        "s1 = reduce(addn,dict1.values())\n",
        "print(s1)"
      ],
      "metadata": {
        "colab": {
          "base_uri": "https://localhost:8080/"
        },
        "id": "URO-jcfEx6gN",
        "outputId": "c78b85ac-23d0-417b-fd1b-a60148e890bb"
      },
      "execution_count": null,
      "outputs": [
        {
          "output_type": "stream",
          "name": "stdout",
          "text": [
            "500\n"
          ]
        }
      ]
    },
    {
      "cell_type": "code",
      "source": [],
      "metadata": {
        "id": "jwrVbw3MyNTt"
      },
      "execution_count": null,
      "outputs": []
    }
  ]
}